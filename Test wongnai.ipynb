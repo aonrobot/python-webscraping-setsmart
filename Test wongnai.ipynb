{
 "cells": [
  {
   "cell_type": "code",
   "execution_count": 265,
   "metadata": {},
   "outputs": [],
   "source": [
    "import requests, json"
   ]
  },
  {
   "cell_type": "code",
   "execution_count": 266,
   "metadata": {},
   "outputs": [],
   "source": [
    "from bs4 import BeautifulSoup"
   ]
  },
  {
   "cell_type": "code",
   "execution_count": 267,
   "metadata": {},
   "outputs": [],
   "source": [
    "# 23254444, EX5GHDZV\n",
    "payload = \"{\\n    \\\"password\\\": \\\"Pp4581831265\\\",\\n    \\\"username\\\": \\\"p.promto@gmail.com\\\"\\n}\""
   ]
  },
  {
   "cell_type": "code",
   "execution_count": 268,
   "metadata": {},
   "outputs": [],
   "source": [
    "headers = {\n",
    "    'Content-Type': \"application/json\",\n",
    "    'User-Agent': \"PostmanRuntime/7.15.2\",\n",
    "    'Accept': \"*/*\",\n",
    "    'Cache-Control': \"no-cache\",\n",
    "    'Postman-Token': \"9b2fa27c-4052-477a-94f0-9f2482765e41,392e6b9e-f3ad-49db-bf29-2b4e03cfb78d\",\n",
    "    'Host': \"api.setsmart.com\",\n",
    "    'Accept-Encoding': \"gzip, deflate\",\n",
    "    'Content-Length': \"66\",\n",
    "    'Connection': \"keep-alive\",\n",
    "    'cache-control': \"no-cache\"\n",
    "}"
   ]
  },
  {
   "cell_type": "code",
   "execution_count": 269,
   "metadata": {
    "scrolled": false
   },
   "outputs": [
    {
     "name": "stdout",
     "output_type": "stream",
     "text": [
      "JSESSIONID 88DFEDA75E2D040D27D9CA7D632DED0D.localhost\n"
     ]
    }
   ],
   "source": [
    "# Login\n",
    "with requests.Session() as s:\n",
    "    url = 'https://api.setsmart.com/api/user/login'\n",
    "    r = s.post(url, data=payload, headers=headers)\n",
    "    \n",
    "    ACCESS_TOKEN = r.json()['access_token']\n",
    "    \n",
    "    r_create_session = s.get('https://www.setsmart.com/ism/api/createusersession.api', headers={'Authorization': 'Bearer ' + ACCESS_TOKEN})\n",
    "    \n",
    "    JSESSIONID = s.cookies.get_dict()['JSESSIONID']\n",
    "    print('JSESSIONID', JSESSIONID)"
   ]
  },
  {
   "cell_type": "code",
   "execution_count": 278,
   "metadata": {},
   "outputs": [
    {
     "name": "stdout",
     "output_type": "stream",
     "text": [
      "{'Cookie': 'JSESSIONID=88DFEDA75E2D040D27D9CA7D632DED0D.localhostl;', 'User-Agent': 'PostmanRuntime/7.15.2', 'Accept': '*/*', 'Cache-Control': 'no-cache', 'Postman-Token': '2becce72-e79c-44a5-b7c7-e6627123df59,85ebc553-9da8-425f-8ee5-954172b9fe3b', 'Host': 'www.setsmart.com', 'Accept-Encoding': 'gzip, deflate', 'Connection': 'keep-alive', 'cache-control': 'no-cache'}\n",
      "<Response [200]>\n"
     ]
    }
   ],
   "source": [
    "# Get Page\n",
    "query_headers = {\n",
    "    'Cookie': \"JSESSIONID=\" + JSESSIONID + \";\",\n",
    "    'User-Agent': \"PostmanRuntime/7.15.2\",\n",
    "    'Accept': \"*/*\",\n",
    "    'Cache-Control': \"no-cache\",\n",
    "    'Postman-Token': \"2becce72-e79c-44a5-b7c7-e6627123df59,85ebc553-9da8-425f-8ee5-954172b9fe3b\",\n",
    "    'Host': \"www.setsmart.com\",\n",
    "    'Accept-Encoding': \"gzip, deflate\",\n",
    "    'Connection': \"keep-alive\",\n",
    "    'cache-control': \"no-cache\"\n",
    "}\n",
    "\n",
    "print(query_headers)\n",
    "querystring = { \"locale\":\"en_US\", \"symbol\":\"AAV01C1408A\" }\n",
    "url = 'https://www.setsmart.com/ism/companyprofile.html'\n",
    "r = s.get(url, headers=query_headers, params=querystring)\n",
    "print(r)\n",
    "# html_doc = r.content"
   ]
  },
  {
   "cell_type": "code",
   "execution_count": 271,
   "metadata": {},
   "outputs": [],
   "source": [
    "# soup = BeautifulSoup(html_doc, 'html.parser')\n",
    "# data_url = soup.iframe.get('src')"
   ]
  },
  {
   "cell_type": "code",
   "execution_count": 272,
   "metadata": {},
   "outputs": [],
   "source": [
    "# #Get Data\n",
    "# url = 'https://www.setsmart.com' + str(data_url);\n",
    "# r = s.get(url)\n",
    "# soup = BeautifulSoup(r.content, 'html.parser')\n",
    "\n",
    "# str_data = soup.pre.string.replace(\" \", \"\")"
   ]
  },
  {
   "cell_type": "code",
   "execution_count": 273,
   "metadata": {},
   "outputs": [],
   "source": [
    "# # find data\n",
    "# col_name = ['DWValue(Baht)', 'Exerciseratio(DW:Underlyingasset)', 'Exerciseprice(baht)']\n",
    "\n",
    "# for name in col_name:\n",
    "#     index_start = str_data.find(name)\n",
    "#     index_end = str_data.find('\\n', index_start)\n",
    "#     data = str_data[index_start + len(name) + 1:index_end]\n",
    "#     print(name, data)"
   ]
  },
  {
   "cell_type": "code",
   "execution_count": 274,
   "metadata": {},
   "outputs": [],
   "source": [
    "# urlLine = 'https://notify-api.line.me/api/notify'\n",
    "# token = 'nVCDZg1I4UiztlhcZe2C14MhUCijNUX4421KcjUmBeZ'\n",
    "# headers = {'content-type':'application/x-www-form-urlencoded','Authorization':'Bearer ' + token}\n",
    "\n",
    "# s.post(urlLine, headers=headers , data = {'message': 'Stringing Scraping'})"
   ]
  },
  {
   "cell_type": "code",
   "execution_count": 275,
   "metadata": {},
   "outputs": [],
   "source": [
    "import csv\n",
    "from IPython.display import clear_output"
   ]
  },
  {
   "cell_type": "code",
   "execution_count": 276,
   "metadata": {},
   "outputs": [],
   "source": [
    "codes = []\n",
    "with open('./raw_data/code.csv', mode='r', encoding='utf-8-sig') as code_file:\n",
    "    csv_reader = csv.reader(code_file, delimiter=',')\n",
    "    line_count = 0\n",
    "    for row in csv_reader:\n",
    "        codes.append([str(row[0])])\n",
    "        line_count += 1\n",
    "code_file.close()"
   ]
  },
  {
   "cell_type": "code",
   "execution_count": 277,
   "metadata": {
    "scrolled": true
   },
   "outputs": [
    {
     "name": "stdout",
     "output_type": "stream",
     "text": [
      "Prepare com code AAV01C1408A\n",
      "<Response [200]> AAV01C1408A\n",
      "data Url :  <iframe height=\"150\" src=\"/ism/securitydetailfile.html?filename=dat%2fsecurity%2f00020416.eng\" width=\"100%\"> </iframe>\n",
      "data_no_issued_shares 59,870,600\n",
      "     Shares\n",
      "    \n",
      "\n",
      "listing\n",
      "\n",
      "listing:derivativewarrant\n",
      "dwissuer:bualuangsecuritiespubliccompany\n",
      "limited(bls)\n",
      "dwname:aav01c1408a\n",
      "secondarymarket:set\n",
      "tradingdate:26-feb-2014\n",
      "numberofderivativewarrants(unit::60,000,000\n",
      "dws)\n",
      "underlyingasset:aav\n",
      "dwvalue(baht):60,000,000.00\n",
      "exerciseratio(dw:underlyingasset):2:1\n",
      "exerciseprice(baht):3.30\n",
      "typeofdw:callwarrant\n",
      "exercisetype:europeanstyle\n",
      "lasttradingdate:29-aug-2014\n",
      "maturitydate:04-sep-2014\n",
      "lastexercisedate:04-sep-2014\n",
      "marketmaker:bualuangsecuritiespubliccompany\n",
      "limited(bls)\n",
      "settlementcondition(s):cashsettlement\n",
      "remark:\n",
      "pleaseseedescription,termsandconditionsofdwabove-mentionedthroughpdf\n",
      "filedisseminatedonthesetmarketanalysisandreportingtool(setsmart).\n",
      "______________________________________________________________________\n",
      "\n",
      "\n",
      "Data com code ['AAV01C1408A', '60,000,000.00', '2:1', '', '3.30', '26-feb-2014', '29-aug-2014', '04-sep-2014', '04-sep-2014', '59,870,600']\n"
     ]
    }
   ],
   "source": [
    "start_row = 0\n",
    "end_row = 1\n",
    "\n",
    "with open('./process_data/data-' + str(start_row+1) + '-' + str(end_row) + '.csv', 'w+') as csv_file:\n",
    "    writer = csv.writer(csv_file)\n",
    "    \n",
    "    for code in codes[start_row:end_row]:\n",
    "        \n",
    "        clear_output(wait=True)\n",
    "        \n",
    "        com_code = code[0]\n",
    "        \n",
    "        print(f'Prepare com code {com_code}')\n",
    "        \n",
    "        try:\n",
    "            # Get Page\n",
    "            querystring = { \"locale\": \"en_US\", \"symbol\": com_code }\n",
    "            url = 'https://www.setsmart.com/ism/companyprofile.html'\n",
    "            r = requests.request(\"GET\",url, headers=query_headers, params=querystring)\n",
    "            html_doc = r.content\n",
    "        except requests.exceptions.RequestException as e:  # This is the correct syntax\n",
    "            s.post(urlLine, headers=headers , data = {'message': 'network error when scraping ' + url})\n",
    "            sys.exit(1)\n",
    "        \n",
    "        soup = BeautifulSoup(html_doc, 'html.parser')\n",
    "        \n",
    "        print(r, com_code)\n",
    "        \n",
    "        if soup.iframe == None:\n",
    "            writer.writerow(code)\n",
    "            continue\n",
    "        \n",
    "        print('data Url : ' , soup.find_all('iframe')[1])\n",
    "        \n",
    "        data_url = soup.find_all('iframe')[1].get('src')\n",
    "        \n",
    "        #find ...\n",
    "        data_no_issued_shares = soup.find('td', text=\"No. of Issued Shares\").find_next_sibling('td').string\n",
    "        print('data_no_issued_shares', data_no_issued_shares)\n",
    "        \n",
    "        try:\n",
    "            #Get Data\n",
    "            str_data = \"\"\n",
    "            url = 'https://www.setsmart.com' + str(data_url);\n",
    "            r = s.get(url, headers=query_headers)\n",
    "            soup = BeautifulSoup(r.content, 'html.parser')\n",
    "            str_data = soup.pre.string.replace(\" \", \"\").lower()\n",
    "            print(str_data)\n",
    "        except requests.exceptions.RequestException as e:  # This is the correct syntax\n",
    "            s.post(urlLine, headers=headers , data = {'message': 'network error when scraping : ' + url})\n",
    "            sys.exit(1)\n",
    "        \n",
    "        # find data\n",
    "        col_name = [\n",
    "            'dwvalue(baht):', #0\n",
    "            'exerciseratio(dw:underlyingasset):', #1\n",
    "            'exerciseratio(calculate):', #2\n",
    "            'exerciseprice(baht):', #3\n",
    "            'tradingdate:', #4\n",
    "            'lasttradingdate:', #5\n",
    "            'maturitydate:', #6\n",
    "            'lastexercisedate:', #7\n",
    "        ]\n",
    "        \n",
    "        get_data = {}\n",
    "        for name in col_name:\n",
    "            index_start = str_data.find(name, 0)\n",
    "            index_end = str_data.find('\\n', index_start)\n",
    "            \n",
    "            if index_start == -1:\n",
    "                if name == 'dwvalue(baht):':\n",
    "                    index_start = str_data.find('dwvalue(bath):', 0)\n",
    "                    index_end = str_data.find('\\n', index_start)\n",
    "                    if index_start == -1:\n",
    "                        get_data[name] = \"!!!! Fail !!!! - Not found \" + str(name)\n",
    "                        continue\n",
    "                else:\n",
    "                    get_data[name] = \"\"\n",
    "                    continue\n",
    "\n",
    "            data = str_data[index_start + len(name):index_end]\n",
    "            get_data[name] = data\n",
    "\n",
    "        code = code + list(map(lambda name: get_data[name], col_name))\n",
    "        \n",
    "        code = code + [data_no_issued_shares.replace('\\n', '').replace('\\r', '').replace('\\xa0', '').replace(' ', '').replace('Shares', '')]\n",
    "        \n",
    "        print(f'Data com code {code}')\n",
    "        \n",
    "        writer.writerow(code)\n",
    "csv_file.close()"
   ]
  },
  {
   "cell_type": "code",
   "execution_count": null,
   "metadata": {},
   "outputs": [],
   "source": []
  }
 ],
 "metadata": {
  "kernelspec": {
   "display_name": "Python 3",
   "language": "python",
   "name": "python3"
  },
  "language_info": {
   "codemirror_mode": {
    "name": "ipython",
    "version": 3
   },
   "file_extension": ".py",
   "mimetype": "text/x-python",
   "name": "python",
   "nbconvert_exporter": "python",
   "pygments_lexer": "ipython3",
   "version": "3.7.3"
  }
 },
 "nbformat": 4,
 "nbformat_minor": 2
}
