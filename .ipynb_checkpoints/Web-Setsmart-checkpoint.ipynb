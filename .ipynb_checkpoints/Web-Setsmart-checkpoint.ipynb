{
 "cells": [
  {
   "cell_type": "code",
   "execution_count": 28,
   "metadata": {},
   "outputs": [],
   "source": [
    "import requests, json"
   ]
  },
  {
   "cell_type": "code",
   "execution_count": 29,
   "metadata": {},
   "outputs": [],
   "source": [
    "from bs4 import BeautifulSoup"
   ]
  },
  {
   "cell_type": "code",
   "execution_count": 30,
   "metadata": {},
   "outputs": [],
   "source": [
    "# 23254444, EX5GHDZV\n",
    "payload = \"------WebKitFormBoundary7MA4YWxkTrZu0gW\\r\\nContent-Disposition: form-data; name=\\\"username\\\"\\r\\n\\r\\n23254444\\r\\n------WebKitFormBoundary7MA4YWxkTrZu0gW\\r\\nContent-Disposition: form-data; name=\\\"password\\\"\\r\\n\\r\\nEX5GHDZV\\r\\n------WebKitFormBoundary7MA4YWxkTrZu0gW--\""
   ]
  },
  {
   "cell_type": "code",
   "execution_count": 31,
   "metadata": {},
   "outputs": [],
   "source": [
    "headers = {\n",
    "    'content-type': \"multipart/form-data; boundary=----WebKitFormBoundary7MA4YWxkTrZu0gW\",\n",
    "    'Cache-Control': \"no-cache\",\n",
    "    'Postman-Token': \"a354ed76-3f85-49ca-891f-8663891572c9\",\n",
    "    'User-Agent': \"Mozilla/5.0 (Macintosh; Intel Mac OS X 10_14_3) AppleWebKit/537.36 (KHTML, like Gecko) Chrome/73.0.3683.103 Safari/537.36\"\n",
    "}"
   ]
  },
  {
   "cell_type": "code",
   "execution_count": 32,
   "metadata": {},
   "outputs": [],
   "source": [
    "# Login\n",
    "with requests.Session() as s:\n",
    "    url = 'https://www.setsmart.com/ism/api/login.api'\n",
    "    r = s.post(url, data=payload, headers=headers)\n",
    "    JSESSIONID = s.cookies.get_dict()['JSESSIONID']"
   ]
  },
  {
   "cell_type": "code",
   "execution_count": 33,
   "metadata": {},
   "outputs": [],
   "source": [
    "# Get Page\n",
    "query_headers = {\n",
    "    'Cookie': \"JSESSIONID=EFB9838C245B6B3AAC6F64FC940CB0C9.localhost;\"\n",
    "}\n",
    "\n",
    "# querystring = { \"symbol\":\"AAV01C1408A\" }\n",
    "# url = 'https://www.setsmart.com/ism/companyprofile.html'\n",
    "# r = s.get(url, headers=query_headers, params=querystring)\n",
    "\n",
    "# html_doc = r.content"
   ]
  },
  {
   "cell_type": "code",
   "execution_count": 34,
   "metadata": {},
   "outputs": [],
   "source": [
    "# soup = BeautifulSoup(html_doc, 'html.parser')\n",
    "# data_url = soup.iframe.get('src')"
   ]
  },
  {
   "cell_type": "code",
   "execution_count": 35,
   "metadata": {},
   "outputs": [],
   "source": [
    "# #Get Data\n",
    "# url = 'https://www.setsmart.com' + str(data_url);\n",
    "# r = s.get(url)\n",
    "# soup = BeautifulSoup(r.content, 'html.parser')\n",
    "\n",
    "# str_data = soup.pre.string.replace(\" \", \"\")"
   ]
  },
  {
   "cell_type": "code",
   "execution_count": 36,
   "metadata": {},
   "outputs": [],
   "source": [
    "# # find data\n",
    "# col_name = ['DWValue(Baht)', 'Exerciseratio(DW:Underlyingasset)', 'Exerciseprice(baht)']\n",
    "\n",
    "# for name in col_name:\n",
    "#     index_start = str_data.find(name)\n",
    "#     index_end = str_data.find('\\n', index_start)\n",
    "#     data = str_data[index_start + len(name) + 1:index_end]\n",
    "#     print(name, data)"
   ]
  },
  {
   "cell_type": "code",
   "execution_count": 37,
   "metadata": {},
   "outputs": [
    {
     "data": {
      "text/plain": [
       "<Response [200]>"
      ]
     },
     "execution_count": 37,
     "metadata": {},
     "output_type": "execute_result"
    }
   ],
   "source": [
    "urlLine = 'https://notify-api.line.me/api/notify'\n",
    "token = 'nVCDZg1I4UiztlhcZe2C14MhUCijNUX4421KcjUmBeZ'\n",
    "headers = {'content-type':'application/x-www-form-urlencoded','Authorization':'Bearer ' + token}\n",
    "\n",
    "s.post(urlLine, headers=headers , data = {'message': 'Stringing Scraping'})"
   ]
  },
  {
   "cell_type": "code",
   "execution_count": 38,
   "metadata": {},
   "outputs": [],
   "source": [
    "import csv\n",
    "from IPython.display import clear_output"
   ]
  },
  {
   "cell_type": "code",
   "execution_count": 39,
   "metadata": {},
   "outputs": [],
   "source": [
    "codes = []\n",
    "with open('./raw_data/code.csv', mode='r', encoding='utf-8-sig') as code_file:\n",
    "    csv_reader = csv.reader(code_file, delimiter=',')\n",
    "    line_count = 0\n",
    "    for row in csv_reader:\n",
    "        codes.append([str(row[0])])\n",
    "        line_count += 1\n",
    "code_file.close()"
   ]
  },
  {
   "cell_type": "code",
   "execution_count": 44,
   "metadata": {
    "scrolled": true
   },
   "outputs": [
    {
     "name": "stdout",
     "output_type": "stream",
     "text": [
      "Prepare com code AAV01C1408A\n",
      "data Url :  <iframe height=\"150\" src=\"/ism/securitydetailfile.html?filename=dat%2fsecurity%2f00020416.eng\" width=\"100%\"> </iframe>\n"
     ]
    },
    {
     "ename": "AttributeError",
     "evalue": "ResultSet object has no attribute 'parent'. You're probably treating a list of items like a single item. Did you call find_all() when you meant to call find()?",
     "output_type": "error",
     "traceback": [
      "\u001b[0;31m---------------------------------------------------------------------------\u001b[0m",
      "\u001b[0;31mAttributeError\u001b[0m                            Traceback (most recent call last)",
      "\u001b[0;32m<ipython-input-44-87e4e397f797>\u001b[0m in \u001b[0;36m<module>\u001b[0;34m\u001b[0m\n\u001b[1;32m     34\u001b[0m \u001b[0;34m\u001b[0m\u001b[0m\n\u001b[1;32m     35\u001b[0m         \u001b[0;31m#find ...\u001b[0m\u001b[0;34m\u001b[0m\u001b[0;34m\u001b[0m\u001b[0;34m\u001b[0m\u001b[0m\n\u001b[0;32m---> 36\u001b[0;31m         \u001b[0mdata_no_issued_shares\u001b[0m \u001b[0;34m=\u001b[0m \u001b[0msoup\u001b[0m\u001b[0;34m.\u001b[0m\u001b[0mfind_all\u001b[0m\u001b[0;34m(\u001b[0m\u001b[0;34m\"td\"\u001b[0m\u001b[0;34m,\u001b[0m \u001b[0mtext\u001b[0m\u001b[0;34m=\u001b[0m\u001b[0;34m\"No. of Issued Shares\"\u001b[0m\u001b[0;34m)\u001b[0m\u001b[0;34m.\u001b[0m\u001b[0mparent\u001b[0m\u001b[0;34m(\u001b[0m\u001b[0;34m)\u001b[0m\u001b[0;34m\u001b[0m\u001b[0;34m\u001b[0m\u001b[0m\n\u001b[0m\u001b[1;32m     37\u001b[0m         \u001b[0mprint\u001b[0m\u001b[0;34m(\u001b[0m\u001b[0;34m'data_no_issued_shares'\u001b[0m\u001b[0;34m,\u001b[0m \u001b[0mdata_no_issued_shares\u001b[0m\u001b[0;34m)\u001b[0m\u001b[0;34m\u001b[0m\u001b[0;34m\u001b[0m\u001b[0m\n\u001b[1;32m     38\u001b[0m \u001b[0;34m\u001b[0m\u001b[0m\n",
      "\u001b[0;32m~/anaconda3/lib/python3.7/site-packages/bs4/element.py\u001b[0m in \u001b[0;36m__getattr__\u001b[0;34m(self, key)\u001b[0m\n\u001b[1;32m   1618\u001b[0m     \u001b[0;32mdef\u001b[0m \u001b[0m__getattr__\u001b[0m\u001b[0;34m(\u001b[0m\u001b[0mself\u001b[0m\u001b[0;34m,\u001b[0m \u001b[0mkey\u001b[0m\u001b[0;34m)\u001b[0m\u001b[0;34m:\u001b[0m\u001b[0;34m\u001b[0m\u001b[0;34m\u001b[0m\u001b[0m\n\u001b[1;32m   1619\u001b[0m         raise AttributeError(\n\u001b[0;32m-> 1620\u001b[0;31m             \u001b[0;34m\"ResultSet object has no attribute '%s'. You're probably treating a list of items like a single item. Did you call find_all() when you meant to call find()?\"\u001b[0m \u001b[0;34m%\u001b[0m \u001b[0mkey\u001b[0m\u001b[0;34m\u001b[0m\u001b[0;34m\u001b[0m\u001b[0m\n\u001b[0m\u001b[1;32m   1621\u001b[0m         )\n",
      "\u001b[0;31mAttributeError\u001b[0m: ResultSet object has no attribute 'parent'. You're probably treating a list of items like a single item. Did you call find_all() when you meant to call find()?"
     ]
    }
   ],
   "source": [
    "start_row = 0\n",
    "end_row = 1\n",
    "\n",
    "with open('./process_data/data-' + str(start_row+1) + '-' + str(end_row) + '.csv', 'w+') as csv_file:\n",
    "    writer = csv.writer(csv_file)\n",
    "    \n",
    "    for code in codes[start_row:end_row]:\n",
    "        \n",
    "        clear_output(wait=True)\n",
    "        \n",
    "        com_code = code[0]\n",
    "        \n",
    "        print(f'Prepare com code {com_code}')\n",
    "        \n",
    "        try:\n",
    "            # Get Page\n",
    "            querystring = { \"symbol\": com_code }\n",
    "            url = 'https://www.setsmart.com/ism/companyprofile.html'\n",
    "            r = s.get(url, headers=query_headers, params=querystring)\n",
    "            html_doc = r.content\n",
    "        except requests.exceptions.RequestException as e:  # This is the correct syntax\n",
    "            s.post(urlLine, headers=headers , data = {'message': 'net work error when scraping ' + url})\n",
    "            sys.exit(1)\n",
    "        \n",
    "        soup = BeautifulSoup(html_doc, 'html.parser')\n",
    "        \n",
    "        if soup.iframe == None:\n",
    "            writer.writerow(code)\n",
    "            continue\n",
    "        \n",
    "        print('data Url : ' , soup.find_all('iframe')[1])\n",
    "        \n",
    "        data_url = soup.find_all('iframe')[1].get('src')\n",
    "        \n",
    "        #find ...\n",
    "        data_no_issued_shares = soup.find_all(\"td\", text=\"No. of Issued Shares\").next_sibling\n",
    "        print('data_no_issued_shares', data_no_issued_shares)\n",
    "        \n",
    "        try:\n",
    "            #Get Data\n",
    "            str_data = \"\"\n",
    "            url = 'https://www.setsmart.com' + str(data_url);\n",
    "            r = s.get(url, headers=query_headers)\n",
    "            soup = BeautifulSoup(r.content, 'html.parser')\n",
    "            str_data = soup.pre.string.replace(\" \", \"\").lower()\n",
    "            print(str_data)\n",
    "        except requests.exceptions.RequestException as e:  # This is the correct syntax\n",
    "            s.post(urlLine, headers=headers , data = {'message': 'net work error when scraping : ' + url})\n",
    "            sys.exit(1)\n",
    "        \n",
    "        # find data\n",
    "        col_name = [\n",
    "            'dwvalue(baht):', #0\n",
    "            'exerciseratio(dw:underlyingasset):', #1\n",
    "            'exerciseratio(calculate):', #2\n",
    "            'exerciseprice(baht):', #3\n",
    "            'tradingdate:', #4\n",
    "            'lasttradingdate:', #5\n",
    "            'maturitydate:', #6\n",
    "            'lastexercisedate:', #7\n",
    "            \n",
    "        ]\n",
    "        \n",
    "        get_data = {}\n",
    "        for name in col_name:\n",
    "            index_start = str_data.find(name, 0)\n",
    "            index_end = str_data.find('\\n', index_start)\n",
    "            \n",
    "            if index_start == -1:\n",
    "                if name == 'dwvalue(baht):':\n",
    "                    index_start = str_data.find('dwvalue(bath):', 0)\n",
    "                    index_end = str_data.find('\\n', index_start)\n",
    "                    if index_start == -1:\n",
    "                        get_data[name] = \"!!!! Fail !!!! - Not found \" + str(name)\n",
    "                        continue\n",
    "                else:\n",
    "                    get_data[name] = \"\"\n",
    "                    continue\n",
    "                    \n",
    "            data = str_data[index_start + len(name):index_end]\n",
    "            get_data[name] = data\n",
    "        \n",
    "#         code = code + [\n",
    "#             get_data['dwvalue(baht):'],\n",
    "#             get_data['exerciseratio(dw:underlyingasset):'],\n",
    "#             get_data['exerciseratio(calculate):'],\n",
    "#             get_data['exerciseprice(baht):'],\n",
    "#             get_data[col_name[4]],\n",
    "#             get_data[col_name[5]],\n",
    "#             get_data[col_name[6]],\n",
    "#             get_data[col_name[7]]\n",
    "#         ]\n",
    "\n",
    "        code = code + list(map(lambda name: get_data[name], col_name))\n",
    "        \n",
    "        \n",
    "        print(f'Data com code {code}')\n",
    "        \n",
    "        \n",
    "        writer.writerow(code)\n",
    "csv_file.close()"
   ]
  },
  {
   "cell_type": "code",
   "execution_count": null,
   "metadata": {},
   "outputs": [],
   "source": []
  },
  {
   "cell_type": "code",
   "execution_count": null,
   "metadata": {},
   "outputs": [],
   "source": []
  }
 ],
 "metadata": {
  "kernelspec": {
   "display_name": "Python 3",
   "language": "python",
   "name": "python3"
  },
  "language_info": {
   "codemirror_mode": {
    "name": "ipython",
    "version": 3
   },
   "file_extension": ".py",
   "mimetype": "text/x-python",
   "name": "python",
   "nbconvert_exporter": "python",
   "pygments_lexer": "ipython3",
   "version": "3.7.3"
  }
 },
 "nbformat": 4,
 "nbformat_minor": 2
}
